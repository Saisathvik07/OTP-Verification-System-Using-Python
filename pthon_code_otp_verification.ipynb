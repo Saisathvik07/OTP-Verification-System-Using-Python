{
  "nbformat": 4,
  "nbformat_minor": 0,
  "metadata": {
    "colab": {
      "provenance": []
    },
    "kernelspec": {
      "name": "python3",
      "display_name": "Python 3"
    },
    "language_info": {
      "name": "python"
    }
  },
  "cells": [
    {
      "cell_type": "code",
      "source": [
        "import random\n",
        "import smtplib\n",
        "from email.message import EmailMessage\n",
        "import time\n",
        "import hashlib\n",
        "\n",
        "def create_otp():\n",
        "    \"\"\"Generate a 6-digit numeric OTP.\"\"\"\n",
        "    return ''.join([str(random.randint(0, 9)) for _ in range(6)])\n",
        "\n",
        "def send_otp_email(recipient_email, otp_code):\n",
        "    \"\"\"Send the OTP to the user's email address.\"\"\"\n",
        "    smtp_server = 'smtp.gmail.com'\n",
        "    smtp_port = 587\n",
        "    sender_email = 'letsmatch1529@gmail.com'\n",
        "    sender_password = 'yqsk lmyx yeca yayt'\n",
        "\n",
        "    try:\n",
        "        server = smtplib.SMTP(smtp_server, smtp_port)\n",
        "        server.starttls()\n",
        "        server.login(sender_email, sender_password)\n",
        "\n",
        "        email_message = EmailMessage()\n",
        "        email_message['Subject'] = \"Sathvik OTP Verification\"\n",
        "        email_message['From'] = sender_email\n",
        "        email_message['To'] = recipient_email\n",
        "        email_message.set_content(f\"Your OTP code is: {otp_code}\")\n",
        "\n",
        "        server.send_message(email_message)\n",
        "        print(f\"OTP has been sent to {recipient_email}.\")\n",
        "        server.quit()\n",
        "    except Exception as e:\n",
        "        print(f\"Failed to send OTP email. Error: {e}\")\n",
        "\n",
        "def validate_otp(user_otp, original_otp, start_time, expiration_time):\n",
        "    \"\"\"Check if the entered OTP matches and is within the allowed time.\"\"\"\n",
        "    within_time_limit = (time.time() - start_time) <= expiration_time\n",
        "    return user_otp == original_otp and within_time_limit\n",
        "\n",
        "# Main execution\n",
        "if __name__ == \"__main__\":\n",
        "    max_retries = 3\n",
        "    otp_valid_duration = 300  # 5 minutes in seconds\n",
        "\n",
        "    recipient_email = input(\"Enter your email address: \")\n",
        "    otp_code = create_otp()\n",
        "    send_otp_email(recipient_email, otp_code)\n",
        "\n",
        "    start_time = time.time()\n",
        "    attempts = 0\n",
        "\n",
        "    while attempts < max_retries:\n",
        "        remaining_attempts = max_retries - attempts\n",
        "        entered_otp = input(f\"Enter the OTP (Attempts left: {remaining_attempts}): \")\n",
        "\n",
        "        if validate_otp(entered_otp, otp_code, start_time, otp_valid_duration):\n",
        "            print(\"OTP Verified. Access granted.\")\n",
        "            break\n",
        "        else:\n",
        "            attempts += 1\n",
        "            if (time.time() - start_time) > otp_valid_duration:\n",
        "                print(\"The OTP has expired. Please request a new one.\")\n",
        "                break\n",
        "            elif attempts < max_retries:\n",
        "                print(\"Incorrect OTP. Please try again.\")\n",
        "            else:\n",
        "                print(\"Maximum attempts reached. Access denied.\")\n"
      ],
      "metadata": {
        "colab": {
          "base_uri": "https://localhost:8080/"
        },
        "id": "SZs7eXuiYL21",
        "outputId": "df4e19bd-c046-4722-efce-d94cd29e423d"
      },
      "execution_count": 12,
      "outputs": [
        {
          "output_type": "stream",
          "name": "stdout",
          "text": [
            "Enter your email address: pmr.saisathvik@gmail.com\n",
            "OTP has been sent to pmr.saisathvik@gmail.com.\n",
            "Enter the OTP (Attempts left: 3): 141388\n",
            "OTP Verified. Access granted.\n"
          ]
        }
      ]
    }
  ]
}